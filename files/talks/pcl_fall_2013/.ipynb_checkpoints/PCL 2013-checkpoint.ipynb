{
 "metadata": {
  "name": ""
 },
 "nbformat": 3,
 "nbformat_minor": 0,
 "worksheets": [
  {
   "cells": [
    {
     "cell_type": "code",
     "collapsed": false,
     "input": [
      "from IPython import display"
     ],
     "language": "python",
     "metadata": {
      "slideshow": {
       "slide_type": "skip"
      }
     },
     "outputs": [],
     "prompt_number": 1
    },
    {
     "cell_type": "markdown",
     "metadata": {
      "slideshow": {
       "slide_type": "slide"
      }
     },
     "source": [
      "# Quantifying Program Comprehension\n",
      "\n",
      "### Michael Hansen, Rob Goldstone, Andrew Lumsdaine\n",
      "\n",
      "*Percepts and Concepts Lab, Spring 2013*"
     ]
    },
    {
     "cell_type": "markdown",
     "metadata": {
      "slideshow": {
       "slide_type": "slide"
      }
     },
     "source": [
      "## Outline\n",
      "\n",
      "* eyeCode Experiment\n",
      "* Participants and Response Data\n",
      "* Eye-tracking Analysis\n",
      "* Future Work"
     ]
    },
    {
     "cell_type": "markdown",
     "metadata": {
      "slideshow": {
       "slide_type": "slide"
      }
     },
     "source": [
      "# The eyeCode Experiment"
     ]
    },
    {
     "cell_type": "markdown",
     "metadata": {},
     "source": [
      "## Task\n",
      "\n",
      "* Predict printed output of 10 short Python programs\n",
      "* 2-3 versions of 10 programs, randomly assigned\n",
      "* Pre/post surveys\n",
      "\n",
      "## Goals\n",
      "\n",
      "* Small code changes = large effects?\n",
      "* Complexity is more than metrics\n",
      "* Eye-tracking data for modeling program comprehension"
     ]
    },
    {
     "cell_type": "markdown",
     "metadata": {
      "slideshow": {
       "slide_type": "slide"
      }
     },
     "source": [
      "### Home Screen\n",
      "\n",
      "![](files/img/eyecode_home.png)"
     ]
    },
    {
     "cell_type": "markdown",
     "metadata": {
      "slideshow": {
       "slide_type": "slide"
      }
     },
     "source": [
      "### Trial Screen\n",
      "\n",
      "![](files/img/eyecode_trial.png)"
     ]
    },
    {
     "cell_type": "markdown",
     "metadata": {
      "slideshow": {
       "slide_type": "slide"
      }
     },
     "source": [
      "### Anatomy of a Trial\n",
      "\n",
      "![](files/img/trial_anatomy.png)\n",
      "\n",
      "* Response proportion $\\approx 0.5$\n",
      "* Keystroke coefficient = 4/2 = 2\n",
      "    * Keystroke count = 4\n",
      "    * True output characters = 2\n",
      "* Grade = 10 (perfect)"
     ]
    },
    {
     "cell_type": "markdown",
     "metadata": {
      "slideshow": {
       "slide_type": "slide"
      }
     },
     "source": [
      "## Tobii TX300 Eye-Tracker\n",
      "\n",
      "* Free-standing (no head mount, chin rest)\n",
      "* 300 Hz (fixations $\\ge 100$ ms)\n",
      "\n",
      "![](img/tobii_eyetracker.png)"
     ]
    },
    {
     "cell_type": "code",
     "collapsed": false,
     "input": [
      "display.YouTubeVideo(\"gwAT6mvlR3Q\", width=800, height=450)"
     ],
     "language": "python",
     "metadata": {
      "slideshow": {
       "slide_type": "slide"
      }
     },
     "outputs": [
      {
       "html": [
        "\n",
        "        <iframe\n",
        "            width=\"800\"\n",
        "            height=450\"\n",
        "            src=\"http://www.youtube.com/embed/gwAT6mvlR3Q\"\n",
        "            frameborder=\"0\"\n",
        "            allowfullscreen\n",
        "        ></iframe>\n",
        "        "
       ],
       "metadata": {},
       "output_type": "pyout",
       "prompt_number": 10,
       "text": [
        "<IPython.lib.display.YouTubeVideo at 0x34a5d90>"
       ]
      }
     ],
     "prompt_number": 10
    },
    {
     "cell_type": "markdown",
     "metadata": {
      "slideshow": {
       "slide_type": "slide"
      }
     },
     "source": [
      "## Programs (1/2)\n",
      "\n",
      "### 10 categories, 2-3 versions each (25 total)\n",
      "\n",
      "<div style=\"float: left; width: 50%;\">\n",
      "\n",
      "* `between` - filter two lists, intersection\n",
      "    * `functions` - between/common in functions (**24 lines**)\n",
      "    * `inline` - no functions (19 lines)\n",
      "* `counting` - simple `for` loop with bug\n",
      "    * `nospace` - no blank lines in loop body (3 lines)\n",
      "    * `twospaces` - 2 blank lines in loop body (5 lines)\n",
      "* `funcall` - simple function call with different values\n",
      "    * `nospace` - calls on 1 line, no spaces (4 lines)\n",
      "    * `space` - calls on 1 line, spaced out (4 lines)\n",
      "    * `vars` - calls on 3 lines, different vars (7 lines)\n",
      "\n",
      "</div>\n",
      "<div style=\"float: left; width: 50%;\">\n",
      "\n",
      "* `overload` - overloaded + operator (number strings)\n",
      "     * `multmixed` - numeric *, string + (11 lines)\n",
      "     * `plusmixed` - numeric +, string + (11 lines)\n",
      "     * `strings` - string + (11 lines)\n",
      "* `partition` - partition list of numbers\n",
      "    * `balanced` - odd number of items (5 lines)\n",
      "    * `unbalanced` - even number of items (5 lines)\n",
      "    * `unbalanced_pivot` - even number of items, pivot var (6 lines)\n",
      "\n",
      "</div>\n",
      "<br style=\"clear: both;\" />"
     ]
    },
    {
     "cell_type": "markdown",
     "metadata": {
      "slideshow": {
       "slide_type": "slide"
      }
     },
     "source": [
      "## Programs (2/2)\n",
      "\n",
      "### 10 categories, 2-3 versions each (25 total)\n",
      "\n",
      "<div style=\"float: left; width: 50%;\">\n",
      "\n",
      "* `initvar` - summation and factorial\n",
      "    * `bothbad` - bug in both (9 lines)\n",
      "    * `good` - no bugs (9 lines)\n",
      "    * `onebad` - bug in summation (9 lines)\n",
      "* `order` - 3 simple functions called\n",
      "    * `inorder` - call order = definition order (14 lines)\n",
      "    * `shuffled` - call order $\\ne$ definition order (14 lines)\n",
      "* `rectangle` - compute area of 2 rectangles\n",
      "    * `basic` - x,y,w,h in separate vars, area() in function (18 lines)\n",
      "    * `class` - x,y,w,h,area() in class (21 lines)\n",
      "    * `tuples` - x,y,w,h in tuples, area() in function (14 lines)\n",
      "\n",
      "</div>\n",
      "<div style=\"float: left; width: 50%;\">\n",
      "\n",
      "* `scope` - function calls with no effect\n",
      "    * `diffname` - local/global var have same name (12 lines)\n",
      "    * `samename` - local/global var have different name (12 lines)\n",
      "* `whitespace` - simple linear equations\n",
      "    * `linedup` - code is aligned on operators (14 lines)\n",
      "    * `zigzag` - code is not aligned (14 lines)\n",
      "\n",
      "</div>\n",
      "<br style=\"clear: both;\" />"
     ]
    },
    {
     "cell_type": "markdown",
     "metadata": {
      "slideshow": {
       "slide_type": "slide"
      }
     },
     "source": [
      "# Participants and Response Data\n",
      "\n",
      "<div style=\"float: left; width: 50%;\">\n",
      "\n",
      "* 162 total participants\n",
      "    * 29 Bloomington (\\$10)\n",
      "    * 130 Mechanical Turk (\\$0.75)\n",
      "    * 3 E-mail\n",
      "* 1602 trials\n",
      "    * 18 trials discarded\n",
      "    \n",
      "</div>\n",
      "<div style=\"float: left; width: 50%;\">\n",
      "<img src=\"files/img/mturk.png\" />\n",
      "</div>\n",
      "<br style=\"clear: both;\" />"
     ]
    },
    {
     "cell_type": "markdown",
     "metadata": {
      "slideshow": {
       "slide_type": "slide"
      }
     },
     "source": [
      "## Demographics\n",
      "\n",
      "![](files/img/demographics.png)"
     ]
    },
    {
     "cell_type": "markdown",
     "metadata": {
      "slideshow": {
       "slide_type": "slide"
      }
     },
     "source": [
      "## Grades\n",
      "\n",
      "* 0 to 10 (perfect)\n",
      "* $\\ge 7$ correct modulo formatting\n",
      "\n",
      "<pre style=\"font-size: 2em;\">\n",
      "print \"1\" + \"2\"\n",
      "print 4 * 3\n",
      "</pre>\n",
      "\n",
      "---\n",
      "\n",
      "<div style=\"float: left; width: 50%;\">\n",
      "<h3>True Output</h3>\n",
      "<pre>12\n",
      "12</pre>\n",
      "</div>\n",
      "<div style=\"float: left; width: 50%;\">\n",
      "<h3>Correct (7)</h3>\n",
      "<pre>\"12\",12</pre>\n",
      "</div> \n",
      "<br style=\"clear: both;\" />\n",
      "\n",
      "<div style=\"float: left; width: 50%;\">\n",
      "<h3>Common Error (4)</h3>\n",
      "<pre>3\n",
      "12</pre>\n",
      "</div>\n",
      "<div style=\"float: left; width: 50%;\">\n",
      "<h3>Incorrect (0)</h3>\n",
      "<pre>barney</pre>\n",
      "</div>\n",
      "<br style=\"clear: both;\" />"
     ]
    },
    {
     "cell_type": "markdown",
     "metadata": {
      "slideshow": {
       "slide_type": "slide"
      }
     },
     "source": [
      "## Grades\n",
      "\n",
      "* 0 to 10 (perfect)\n",
      "* $\\ge 7$ correct modulo formatting\n",
      "\n",
      "![](files/img/grade_dists.png)\n",
      "\n",
      "* Median trial grade = 10\n",
      "* Median experiment grade = 81"
     ]
    },
    {
     "cell_type": "markdown",
     "metadata": {
      "slideshow": {
       "slide_type": "slide"
      }
     },
     "source": [
      "### Grade Distributions by Program\n",
      "\n",
      "![](files/img/grades_by_program.png)"
     ]
    },
    {
     "cell_type": "markdown",
     "metadata": {
      "slideshow": {
       "slide_type": "subslide"
      }
     },
     "source": [
      "<div style=\"float: left; width: 50%;\">\n",
      "<h3>scope - samename</h3>\n",
      "<pre><span style=\"color: #008000; font-weight: bold\">def</span> <span style=\"color: #0060B0; font-weight: bold\">add_1</span>(added):\n",
      "    added <span style=\"color: #303030\">=</span> added <span style=\"color: #303030\">+</span> <span style=\"color: #0000D0; font-weight: bold\">1</span>\n",
      "\n",
      "<span style=\"color: #008000; font-weight: bold\">def</span> <span style=\"color: #0060B0; font-weight: bold\">twice</span>(added):\n",
      "    added <span style=\"color: #303030\">=</span> added <span style=\"color: #303030\">*</span> <span style=\"color: #0000D0; font-weight: bold\">2</span>\n",
      "\n",
      "added <span style=\"color: #303030\">=</span> <span style=\"color: #0000D0; font-weight: bold\">4</span>\n",
      "add_1(added)\n",
      "twice(added)\n",
      "add_1(added)\n",
      "twice(added)\n",
      "<span style=\"color: #008000; font-weight: bold\">print</span> added\n",
      "</pre>\n",
      "</div>\n",
      "<div style=\"float: left; width: 50%;\">\n",
      "<h3>scope - diffname</h3>\n",
      "<pre><span style=\"color: #008000; font-weight: bold\">def</span> <span style=\"color: #0060B0; font-weight: bold\">add_1</span>(num):\n",
      "    num <span style=\"color: #303030\">=</span> num <span style=\"color: #303030\">+</span> <span style=\"color: #0000D0; font-weight: bold\">1</span>\n",
      "\n",
      "<span style=\"color: #008000; font-weight: bold\">def</span> <span style=\"color: #0060B0; font-weight: bold\">twice</span>(num):\n",
      "    num <span style=\"color: #303030\">=</span> num <span style=\"color: #303030\">*</span> <span style=\"color: #0000D0; font-weight: bold\">2</span>\n",
      "\n",
      "added <span style=\"color: #303030\">=</span> <span style=\"color: #0000D0; font-weight: bold\">4</span>\n",
      "add_1(added)\n",
      "twice(added)\n",
      "add_1(added)\n",
      "twice(added)\n",
      "<span style=\"color: #008000; font-weight: bold\">print</span> added\n",
      "</pre>\n",
      "</div>\n",
      "<br style=\"clear: both;\" />"
     ]
    },
    {
     "cell_type": "markdown",
     "metadata": {
      "slideshow": {
       "slide_type": "slide"
      }
     },
     "source": [
      "## Trial Duration\n",
      "\n",
      "* 45 minutes for entire experiment\n",
      "* No time limit on individual trials\n",
      "\n",
      "![](files/img/duration_dists.png)\n",
      "\n",
      "* Median trial duration: 55 sec\n",
      "* Median experiment duration: 773 sec (12.9 min)"
     ]
    },
    {
     "cell_type": "markdown",
     "metadata": {
      "slideshow": {
       "slide_type": "slide"
      }
     },
     "source": [
      "### Response Proportions by Program\n",
      "\n",
      "* Time spent responding / trial time\n",
      "\n",
      "![](files/img/response_durations_by_program.png)"
     ]
    },
    {
     "cell_type": "markdown",
     "metadata": {
      "slideshow": {
       "slide_type": "subslide"
      }
     },
     "source": [
      "<div style=\"float: left; width: 50%;\">\n",
      "<h3>between - functions</h3>\n",
      "<pre><span style=\"color: #008000; font-weight: bold\">def</span> <span style=\"color: #0060B0; font-weight: bold\">between</span>(numbers, low, high):\n",
      "    winners <span style=\"color: #303030\">=</span> []\n",
      "    <span style=\"color: #008000; font-weight: bold\">for</span> num <span style=\"color: #000000; font-weight: bold\">in</span> numbers:\n",
      "        <span style=\"color: #008000; font-weight: bold\">if</span> (low <span style=\"color: #303030\">&lt;</span> num) <span style=\"color: #000000; font-weight: bold\">and</span> (num <span style=\"color: #303030\">&lt;</span> high):\n",
      "            winners<span style=\"color: #303030\">.</span>append(num)\n",
      "    <span style=\"color: #008000; font-weight: bold\">return</span> winners\n",
      "\n",
      "<span style=\"color: #008000; font-weight: bold\">def</span> <span style=\"color: #0060B0; font-weight: bold\">common</span>(list1, list2):\n",
      "    winners <span style=\"color: #303030\">=</span> []\n",
      "    <span style=\"color: #008000; font-weight: bold\">for</span> item1 <span style=\"color: #000000; font-weight: bold\">in</span> list1:\n",
      "        <span style=\"color: #008000; font-weight: bold\">if</span> item1 <span style=\"color: #000000; font-weight: bold\">in</span> list2:\n",
      "            winners<span style=\"color: #303030\">.</span>append(item1)\n",
      "    <span style=\"color: #008000; font-weight: bold\">return</span> winners\n",
      "\n",
      "x <span style=\"color: #303030\">=</span> [<span style=\"color: #0000D0; font-weight: bold\">2</span>, <span style=\"color: #0000D0; font-weight: bold\">8</span>, <span style=\"color: #0000D0; font-weight: bold\">7</span>, <span style=\"color: #0000D0; font-weight: bold\">9</span>, <span style=\"color: #303030\">-</span><span style=\"color: #0000D0; font-weight: bold\">5</span>, <span style=\"color: #0000D0; font-weight: bold\">0</span>, <span style=\"color: #0000D0; font-weight: bold\">2</span>]\n",
      "x_btwn <span style=\"color: #303030\">=</span> between(x, <span style=\"color: #0000D0; font-weight: bold\">2</span>, <span style=\"color: #0000D0; font-weight: bold\">10</span>)\n",
      "<span style=\"color: #008000; font-weight: bold\">print</span> x_btwn \n",
      "\n",
      "y <span style=\"color: #303030\">=</span> [<span style=\"color: #0000D0; font-weight: bold\">1</span>, <span style=\"color: #303030\">-</span><span style=\"color: #0000D0; font-weight: bold\">3</span>, <span style=\"color: #0000D0; font-weight: bold\">10</span>, <span style=\"color: #0000D0; font-weight: bold\">0</span>, <span style=\"color: #0000D0; font-weight: bold\">8</span>, <span style=\"color: #0000D0; font-weight: bold\">9</span>, <span style=\"color: #0000D0; font-weight: bold\">1</span>]\n",
      "y_btwn <span style=\"color: #303030\">=</span> between(y, <span style=\"color: #303030\">-</span><span style=\"color: #0000D0; font-weight: bold\">2</span>, <span style=\"color: #0000D0; font-weight: bold\">9</span>)\n",
      "<span style=\"color: #008000; font-weight: bold\">print</span> y_btwn \n",
      "\n",
      "xy_common <span style=\"color: #303030\">=</span> common(x, y)\n",
      "<span style=\"color: #008000; font-weight: bold\">print</span> xy_common \n",
      "</pre>\n",
      "</div>\n",
      "<div style=\"float: left; width: 50%;\">\n",
      "<h3>between - inline</h3>\n",
      "<pre>x <span style=\"color: #303030\">=</span> [<span style=\"color: #0000D0; font-weight: bold\">2</span>, <span style=\"color: #0000D0; font-weight: bold\">8</span>, <span style=\"color: #0000D0; font-weight: bold\">7</span>, <span style=\"color: #0000D0; font-weight: bold\">9</span>, <span style=\"color: #303030\">-</span><span style=\"color: #0000D0; font-weight: bold\">5</span>, <span style=\"color: #0000D0; font-weight: bold\">0</span>, <span style=\"color: #0000D0; font-weight: bold\">2</span>]\n",
      "x_between <span style=\"color: #303030\">=</span> []\n",
      "<span style=\"color: #008000; font-weight: bold\">for</span> x_i <span style=\"color: #000000; font-weight: bold\">in</span> x:\n",
      "    <span style=\"color: #008000; font-weight: bold\">if</span> (<span style=\"color: #0000D0; font-weight: bold\">2</span> <span style=\"color: #303030\">&lt;</span> x_i) <span style=\"color: #000000; font-weight: bold\">and</span> (x_i <span style=\"color: #303030\">&lt;</span> <span style=\"color: #0000D0; font-weight: bold\">10</span>):\n",
      "        x_between<span style=\"color: #303030\">.</span>append(x_i)\n",
      "<span style=\"color: #008000; font-weight: bold\">print</span> x_between\n",
      "\n",
      "y <span style=\"color: #303030\">=</span> [<span style=\"color: #0000D0; font-weight: bold\">1</span>, <span style=\"color: #303030\">-</span><span style=\"color: #0000D0; font-weight: bold\">3</span>, <span style=\"color: #0000D0; font-weight: bold\">10</span>, <span style=\"color: #0000D0; font-weight: bold\">0</span>, <span style=\"color: #0000D0; font-weight: bold\">8</span>, <span style=\"color: #0000D0; font-weight: bold\">9</span>, <span style=\"color: #0000D0; font-weight: bold\">1</span>]\n",
      "y_between <span style=\"color: #303030\">=</span> []\n",
      "<span style=\"color: #008000; font-weight: bold\">for</span> y_i <span style=\"color: #000000; font-weight: bold\">in</span> y:\n",
      "    <span style=\"color: #008000; font-weight: bold\">if</span> (<span style=\"color: #303030\">-</span><span style=\"color: #0000D0; font-weight: bold\">2</span> <span style=\"color: #303030\">&lt;</span> y_i) <span style=\"color: #000000; font-weight: bold\">and</span> (y_i <span style=\"color: #303030\">&lt;</span> <span style=\"color: #0000D0; font-weight: bold\">9</span>):\n",
      "        y_between<span style=\"color: #303030\">.</span>append(y_i)\n",
      "<span style=\"color: #008000; font-weight: bold\">print</span> y_between\n",
      "\n",
      "xy_common <span style=\"color: #303030\">=</span> []\n",
      "<span style=\"color: #008000; font-weight: bold\">for</span> x_i <span style=\"color: #000000; font-weight: bold\">in</span> x:\n",
      "    <span style=\"color: #008000; font-weight: bold\">if</span> x_i <span style=\"color: #000000; font-weight: bold\">in</span> y:\n",
      "        xy_common<span style=\"color: #303030\">.</span>append(x_i)\n",
      "<span style=\"color: #008000; font-weight: bold\">print</span> xy_common\n",
      "</pre>\n",
      "</div>\n",
      "<br style=\"clear: both;\" />"
     ]
    },
    {
     "cell_type": "markdown",
     "metadata": {
      "slideshow": {
       "slide_type": "slide"
      }
     },
     "source": [
      "### Keystroke Coefficient\n",
      "\n",
      "* Number of keystrokes / characters in true output\n",
      "* $\\gt 1$ is less efficient\n",
      "\n",
      "![](files/img/keystroke_coeffs_by_program.png)"
     ]
    },
    {
     "cell_type": "markdown",
     "metadata": {
      "slideshow": {
       "slide_type": "subslide"
      }
     },
     "source": [
      "<div style=\"float: left; width: 50%;\">\n",
      "<h3>counting - nospace</h3>\n",
      "<pre><span style=\"color: #008000; font-weight: bold\">for</span> i <span style=\"color: #000000; font-weight: bold\">in</span> [<span style=\"color: #0000D0; font-weight: bold\">1</span>, <span style=\"color: #0000D0; font-weight: bold\">2</span>, <span style=\"color: #0000D0; font-weight: bold\">3</span>, <span style=\"color: #0000D0; font-weight: bold\">4</span>]:\n",
      "    <span style=\"color: #008000; font-weight: bold\">print</span> <span style=\"background-color: #fff0f0\">&quot;The count is&quot;</span>, i\n",
      "    <span style=\"color: #008000; font-weight: bold\">print</span> <span style=\"background-color: #fff0f0\">&quot;Done counting&quot;</span>\n",
      "</pre>\n",
      "</div>\n",
      "<div style=\"float: left; width: 50%;\">\n",
      "<h3>counting - twospaces</h3>\n",
      "<pre><span style=\"color: #008000; font-weight: bold\">for</span> i <span style=\"color: #000000; font-weight: bold\">in</span> [<span style=\"color: #0000D0; font-weight: bold\">1</span>, <span style=\"color: #0000D0; font-weight: bold\">2</span>, <span style=\"color: #0000D0; font-weight: bold\">3</span>, <span style=\"color: #0000D0; font-weight: bold\">4</span>]:\n",
      "    <span style=\"color: #008000; font-weight: bold\">print</span> <span style=\"background-color: #fff0f0\">&quot;The count is&quot;</span>, i \n",
      "\n",
      "\n",
      "    <span style=\"color: #008000; font-weight: bold\">print</span> <span style=\"background-color: #fff0f0\">&quot;Done counting&quot;</span> \n",
      "</pre>\n",
      "</div>\n",
      "<br style=\"clear: both;\" />"
     ]
    },
    {
     "cell_type": "markdown",
     "metadata": {
      "slideshow": {
       "slide_type": "slide"
      }
     },
     "source": [
      "# Eye-Tracking Analysis\n",
      "\n",
      "* 29 participants, 290 trials\n",
      "* About $5 \\frac{1}{2}$ hours of video\n",
      "* Fixations + saccades, corrected manually by experiment\n",
      "\n",
      "<div style=\"float: left; width: 50%;\">\n",
      "<h3>Uncorrected</h3>\n",
      "<img src=\"files/img/density_uncorrected.png\" />\n",
      "</div>\n",
      "<div style=\"float: left; width: 50%;\">\n",
      "<h3>Corrected</h3>\n",
      "<img src=\"files/img/density_corrected.png\" />\n",
      "</div>\n",
      "<br style=\"clear: both;\" />"
     ]
    },
    {
     "cell_type": "markdown",
     "metadata": {
      "slideshow": {
       "slide_type": "slide"
      }
     },
     "source": [
      "## Fixations and Areas of Interest\n",
      "\n",
      "* Need to quantize fixation positions\n",
      "\n",
      "![](files/img/17-circles.jpg)"
     ]
    },
    {
     "cell_type": "markdown",
     "metadata": {
      "slideshow": {
       "slide_type": "slide"
      }
     },
     "source": [
      "## Line-based AOIs\n",
      "\n",
      "* Indentation is part of line AOI\n",
      "\n",
      "![](files/img/between_functions-lines.png)"
     ]
    },
    {
     "cell_type": "markdown",
     "metadata": {
      "slideshow": {
       "slide_type": "slide"
      }
     },
     "source": [
      "## Syntax-based AOIs\n",
      "\n",
      "* Current data is too noisy to use syntax AOIs\n",
      "\n",
      "![](files/img/between_functions-syntax.png)"
     ]
    },
    {
     "cell_type": "markdown",
     "metadata": {
      "slideshow": {
       "slide_type": "slide"
      }
     },
     "source": [
      "## Fixations and Areas of Interest\n",
      "\n",
      "* By line and output box\n",
      "\n",
      "![](files/img/268-timeline.jpg)"
     ]
    },
    {
     "cell_type": "markdown",
     "metadata": {
      "slideshow": {
       "slide_type": "slide"
      }
     },
     "source": [
      "## Hit Testing\n",
      "\n",
      "* AOI with largest area overlap wins\n",
      "\n",
      "![](files/img/aoi_fixmap-circle.png)"
     ]
    },
    {
     "cell_type": "markdown",
     "metadata": {
      "slideshow": {
       "slide_type": "slide"
      }
     },
     "source": [
      "## Fixation Times by Line\n",
      "\n",
      "* Proportions of total fixation times (all participants)\n",
      "\n",
      "![](files/img/line_time_fixes-counting_nospace.png)\n",
      "\n",
      "* Median grade = 10\n",
      "\n",
      "---\n",
      "\n",
      "![](files/img/line_time_fixes-counting_twospaces.png)\n",
      "\n",
      "* Median grade = 4"
     ]
    },
    {
     "cell_type": "markdown",
     "metadata": {
      "slideshow": {
       "slide_type": "slide"
      }
     },
     "source": [
      "## Scanpath Comparisons\n",
      "\n",
      "![](files/img/aoi_scanpath.png)\n",
      "\n",
      "* Levenshtein distance (string edit distance)\n",
      "* Needleman-Wunsch (DNA sequence matching)"
     ]
    },
    {
     "cell_type": "markdown",
     "metadata": {
      "slideshow": {
       "slide_type": "slide"
      }
     },
     "source": [
      "## AOI Transitions"
     ]
    },
    {
     "cell_type": "markdown",
     "metadata": {},
     "source": [
      "<div style=\"float: left; width: 5%;\">\n",
      "<pre>\n",
      "1\n",
      "2\n",
      "3\n",
      "4\n",
      "5\n",
      "</pre>\n",
      "</div>\n",
      "\n",
      "<div style=\"float: left; width: 90%;\">\n",
      "<pre><span style=\"color: #008000; font-weight: bold\">for</span> i <span style=\"color: #000000; font-weight: bold\">in</span> [<span style=\"color: #0000D0; font-weight: bold\">1</span>, <span style=\"color: #0000D0; font-weight: bold\">2</span>, <span style=\"color: #0000D0; font-weight: bold\">3</span>, <span style=\"color: #0000D0; font-weight: bold\">4</span>]:\n",
      "    <span style=\"color: #008000; font-weight: bold\">print</span> <span style=\"background-color: #fff0f0\">&quot;The count is&quot;</span>, i \n",
      "\n",
      "\n",
      "    <span style=\"color: #008000; font-weight: bold\">print</span> <span style=\"background-color: #fff0f0\">&quot;Done counting&quot;</span> \n",
      "</pre>\n",
      "</div>\n",
      "<br style=\"clear: both; \"/>\n",
      "\n",
      "<div style=\"float: left; width: 50%; text-align: center;\">\n",
      "<h3>Correct Trials</h3>\n",
      "<img src=\"files/img/transitions_counting_twospaces_correct.png\" />\n",
      "</div>\n",
      "\n",
      "<div style=\"float: left; width: 50%; text-align: center;\">\n",
      "<h3>Incorrect Trials</h3>\n",
      "<img src=\"files/img/transitions_counting_twospaces_incorrect.png\" />\n",
      "</div>\n",
      "\n",
      "<br style=\"clear: both; \"/>"
     ]
    },
    {
     "cell_type": "markdown",
     "metadata": {
      "slideshow": {
       "slide_type": "slide"
      }
     },
     "source": [
      "# Future Work\n",
      "\n",
      "* Collect more data\n",
      "    * New programs\n",
      "    * Chin rest for eye-tracker\n",
      "* Codify eye movements $\\rightarrow$ participant strategies\n",
      "    * Differences between experts and novices\n",
      "    * Implications for programming education\n",
      "* Model comprehension process\n",
      "    * Qualitative theories to computational model\n",
      "    * Active vision model with procedural/declarative/spatial memory"
     ]
    },
    {
     "cell_type": "markdown",
     "metadata": {
      "slideshow": {
       "slide_type": "slide"
      }
     },
     "source": [
      "<div style=\"text-align: center;\">\n",
      "<span style=\"font-size: 3em; font-weight: bold;\">Thank you!</span>\n",
      "<br />\n",
      "<img src=\"img/term_happy.png\" />\n",
      "</div>"
     ]
    },
    {
     "cell_type": "code",
     "collapsed": false,
     "input": [],
     "language": "python",
     "metadata": {},
     "outputs": []
    }
   ],
   "metadata": {}
  }
 ]
}